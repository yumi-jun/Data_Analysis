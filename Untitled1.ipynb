{
  "nbformat": 4,
  "nbformat_minor": 0,
  "metadata": {
    "colab": {
      "provenance": [],
      "authorship_tag": "ABX9TyNoO00FKkgUUhJpM1wPz534",
      "include_colab_link": true
    },
    "kernelspec": {
      "name": "python3",
      "display_name": "Python 3"
    },
    "language_info": {
      "name": "python"
    }
  },
  "cells": [
    {
      "cell_type": "markdown",
      "metadata": {
        "id": "view-in-github",
        "colab_type": "text"
      },
      "source": [
        "<a href=\"https://colab.research.google.com/github/yumi-jun/Data_Analysis/blob/main/Untitled1.ipynb\" target=\"_parent\"><img src=\"https://colab.research.google.com/assets/colab-badge.svg\" alt=\"Open In Colab\"/></a>"
      ]
    },
    {
      "cell_type": "code",
      "execution_count": 2,
      "metadata": {
        "colab": {
          "base_uri": "https://localhost:8080/"
        },
        "id": "kdCZN2Wn_NtM",
        "outputId": "62540e2e-04f1-49d8-bdd0-0bce19c57f37"
      },
      "outputs": [
        {
          "output_type": "stream",
          "name": "stdout",
          "text": [
            "[[28515]]\n",
            "              precision    recall  f1-score   support\n",
            "\n",
            "           1       1.00      1.00      1.00     28515\n",
            "\n",
            "    accuracy                           1.00     28515\n",
            "   macro avg       1.00      1.00      1.00     28515\n",
            "weighted avg       1.00      1.00      1.00     28515\n",
            "\n"
          ]
        }
      ],
      "source": [
        "import pandas as pd\n",
        "import numpy as np\n",
        "from sklearn.model_selection import train_test_split\n",
        "from sklearn.preprocessing import StandardScaler\n",
        "from sklearn.ensemble import RandomForestClassifier\n",
        "from sklearn.metrics import classification_report, confusion_matrix\n",
        "\n",
        "# 데이터 로드\n",
        "file_path = '/content/data.csv'\n",
        "data = pd.read_csv(file_path, encoding='ISO-8859-1')\n",
        "\n",
        "# 결측치 처리 및 전처리\n",
        "data = data.dropna(subset=['CustomerID'])\n",
        "data['InvoiceDate'] = pd.to_datetime(data['InvoiceDate'])\n",
        "data['TotalPrice'] = data['Quantity'] * data['UnitPrice']\n",
        "\n",
        "# 고객별 마지막 구매 날짜 계산\n",
        "last_purchase = data.groupby('CustomerID')['InvoiceDate'].max().reset_index()\n",
        "last_purchase.columns = ['CustomerID', 'LastPurchaseDate']\n",
        "\n",
        "# 특정 기준 날짜 설정 (예: 데이터 마지막 날짜로부터 6개월 후)\n",
        "cutoff_date = data['InvoiceDate'].max() + pd.DateOffset(months=6)\n",
        "\n",
        "# 고객 이탈 여부 설정 (cutoff_date 이후 구매가 없는 경우 이탈)\n",
        "last_purchase['Churn'] = last_purchase['LastPurchaseDate'].apply(lambda x: 1 if x < cutoff_date else 0)\n",
        "\n",
        "# 데이터 병합\n",
        "data = pd.merge(data, last_purchase[['CustomerID', 'Churn']], on='CustomerID')\n",
        "\n",
        "# 학습 데이터와 타겟 변수 설정\n",
        "X = data.drop(['InvoiceNo', 'StockCode', 'Description', 'InvoiceDate', 'CustomerID', 'Country', 'Churn'], axis=1)\n",
        "y = data['Churn']\n",
        "\n",
        "# 학습 데이터와 테스트 데이터로 분할\n",
        "X_train, X_test, y_train, y_test = train_test_split(X, y, test_size=0.2, random_state=42)\n",
        "\n",
        "# 데이터 스케일링\n",
        "scaler = StandardScaler()\n",
        "X_train = scaler.fit_transform(X_train)\n",
        "X_test = scaler.transform(X_test)\n",
        "\n",
        "# 랜덤 포레스트 모델 생성 및 학습\n",
        "model = RandomForestClassifier(n_estimators=100, random_state=42)\n",
        "model.fit(X_train, y_train)\n",
        "\n",
        "# 예측 및 평가\n",
        "y_pred = model.predict(X_test)\n",
        "print(confusion_matrix(y_test, y_pred))\n",
        "print(classification_report(y_test, y_pred))\n"
      ]
    }
  ]
}