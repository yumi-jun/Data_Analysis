{
  "nbformat": 4,
  "nbformat_minor": 0,
  "metadata": {
    "colab": {
      "provenance": [],
      "authorship_tag": "ABX9TyPCI9+bDrImlTD5YnqOg5Im",
      "include_colab_link": true
    },
    "kernelspec": {
      "name": "python3",
      "display_name": "Python 3"
    },
    "language_info": {
      "name": "python"
    }
  },
  "cells": [
    {
      "cell_type": "markdown",
      "metadata": {
        "id": "view-in-github",
        "colab_type": "text"
      },
      "source": [
        "<a href=\"https://colab.research.google.com/github/yumi-jun/Data_Analysis/blob/main/rnn.ipynb\" target=\"_parent\"><img src=\"https://colab.research.google.com/assets/colab-badge.svg\" alt=\"Open In Colab\"/></a>"
      ]
    },
    {
      "cell_type": "markdown",
      "source": [
        "# RNN 구글의 주가를 예측해보자 !\n",
        " - 장단기 모델을 사용할 것임!\n",
        " - 2012 년 - 2016년 데이터 셋을 통해, 2017년의 주가 를 예측할 것임"
      ],
      "metadata": {
        "id": "2D-sLx98bmz4"
      }
    },
    {
      "cell_type": "markdown",
      "source": [
        "## Training set 을 준비해보자"
      ],
      "metadata": {
        "id": "LfI5OZLDf5gA"
      }
    },
    {
      "cell_type": "code",
      "source": [
        "import numpy as np\n",
        "import matplotlib.pyplot as plt\n",
        "import pandas as pd\n",
        "\n"
      ],
      "metadata": {
        "id": "VkmVXrZTfvZE"
      },
      "execution_count": null,
      "outputs": []
    },
    {
      "cell_type": "code",
      "execution_count": null,
      "metadata": {
        "colab": {
          "base_uri": "https://localhost:8080/"
        },
        "id": "gy4bPZu2bjyd",
        "outputId": "8139f102-1a6e-413f-949b-387fb0c45562"
      },
      "outputs": [
        {
          "output_type": "stream",
          "name": "stdout",
          "text": [
            "[[325.25]\n",
            " [331.27]\n",
            " [329.83]\n",
            " ...\n",
            " [793.7 ]\n",
            " [783.33]\n",
            " [782.75]]\n",
            "(1258, 6)\n"
          ]
        }
      ],
      "source": [
        "dataset_train=pd.read_csv('Google_Stock_Price_Train.csv')\n",
        "\n",
        "## 열을 추출할 때, [:, 1] : Series 1 차원 배열로 반환\n",
        "## 열을 추출할 때, [:, 1:2] : DataFrame 2차원 배열로 반환\n",
        "training_set=dataset_train.iloc[:,1:2].values # 1열이 2차원으로 반환\n",
        "print(training_set)\n",
        "print(dataset_train.shape)"
      ]
    },
    {
      "cell_type": "markdown",
      "source": [
        "# 데이터 전처리\n",
        "- 표준화\n",
        "- 정규화"
      ],
      "metadata": {
        "id": "33oiEA3AjYkv"
      }
    },
    {
      "cell_type": "markdown",
      "source": [
        "시그노이드 함수 : 순환 신경망의 출력층에 활성화 함수에 시그노이드 함수를 사용하게 될 경우, 정규화를 추천한다."
      ],
      "metadata": {
        "id": "y6KEsHkVjeNI"
      }
    },
    {
      "cell_type": "code",
      "source": [
        "from sklearn.preprocessing import MinMaxScaler\n",
        "# 척도\n",
        "sc=MinMaxScaler(feature_range=(0,1))\n",
        "# 정규화된 값을 적용한\n",
        "training_set_scaled=sc.fit_transform(training_set)\n",
        "print(training_set_scaled)"
      ],
      "metadata": {
        "colab": {
          "base_uri": "https://localhost:8080/"
        },
        "id": "-hRHPh7miu6k",
        "outputId": "86acaa43-29dd-4e89-bfef-936c9ed6548c"
      },
      "execution_count": null,
      "outputs": [
        {
          "output_type": "stream",
          "name": "stdout",
          "text": [
            "[[0.08581368]\n",
            " [0.09701243]\n",
            " [0.09433366]\n",
            " ...\n",
            " [0.95725128]\n",
            " [0.93796041]\n",
            " [0.93688146]]\n"
          ]
        }
      ]
    },
    {
      "cell_type": "markdown",
      "source": [
        "RNN 을 구축하여보자\n"
      ],
      "metadata": {
        "id": "b5MKjq1-mfJx"
      }
    },
    {
      "cell_type": "code",
      "source": [
        "x_train=[] # 이전의 60개의 데이터\n",
        "y_train=[] # 예측할 데이터\n",
        "\n",
        "for i in range(60,1258):\n",
        "  # 시리즈 1차원 배열로 반환\n",
        "  x_train.append(training_set_scaled[i-60:i,0])\n",
        "  y_train.append(training_set_scaled[i,0])\n",
        "\n",
        "# 1차원 배열들이, numpy 로 다차원 배열로 변혼하게됨.\n",
        "# x_train : 0-59 까지의 데이터 배열, y_train : 60 의 데이터가 있음\n",
        "x_train,y_train=np.array(x_train),np.array(y_train)"
      ],
      "metadata": {
        "id": "x4WHIR-Fm9s0"
      },
      "execution_count": null,
      "outputs": []
    },
    {
      "cell_type": "code",
      "source": [
        "# 3차원 모델 만들\n",
        "x_train = np.reshape(x_train, (x_train.shape[0],x_train.shape[1], 1))\n",
        "print(x_train)"
      ],
      "metadata": {
        "colab": {
          "base_uri": "https://localhost:8080/"
        },
        "id": "vi_CBV3Stj9J",
        "outputId": "3a7a0307-86d2-4395-fc93-946425e64d4c"
      },
      "execution_count": null,
      "outputs": [
        {
          "output_type": "stream",
          "name": "stdout",
          "text": [
            "[[[0.08581368]\n",
            "  [0.09701243]\n",
            "  [0.09433366]\n",
            "  ...\n",
            "  [0.07846566]\n",
            "  [0.08034452]\n",
            "  [0.08497656]]\n",
            "\n",
            " [[0.09701243]\n",
            "  [0.09433366]\n",
            "  [0.09156187]\n",
            "  ...\n",
            "  [0.08034452]\n",
            "  [0.08497656]\n",
            "  [0.08627874]]\n",
            "\n",
            " [[0.09433366]\n",
            "  [0.09156187]\n",
            "  [0.07984225]\n",
            "  ...\n",
            "  [0.08497656]\n",
            "  [0.08627874]\n",
            "  [0.08471612]]\n",
            "\n",
            " ...\n",
            "\n",
            " [[0.92106928]\n",
            "  [0.92438053]\n",
            "  [0.93048218]\n",
            "  ...\n",
            "  [0.95475854]\n",
            "  [0.95204256]\n",
            "  [0.95163331]]\n",
            "\n",
            " [[0.92438053]\n",
            "  [0.93048218]\n",
            "  [0.9299055 ]\n",
            "  ...\n",
            "  [0.95204256]\n",
            "  [0.95163331]\n",
            "  [0.95725128]]\n",
            "\n",
            " [[0.93048218]\n",
            "  [0.9299055 ]\n",
            "  [0.93113327]\n",
            "  ...\n",
            "  [0.95163331]\n",
            "  [0.95725128]\n",
            "  [0.93796041]]]\n"
          ]
        }
      ]
    },
    {
      "cell_type": "code",
      "source": [
        "print(x_train.shape)"
      ],
      "metadata": {
        "colab": {
          "base_uri": "https://localhost:8080/"
        },
        "id": "i8c1op0Hvl_4",
        "outputId": "51045e6e-aeb5-431a-ea77-f27da80f0e41"
      },
      "execution_count": null,
      "outputs": [
        {
          "output_type": "stream",
          "name": "stdout",
          "text": [
            "(1198, 60, 1)\n"
          ]
        }
      ]
    },
    {
      "cell_type": "code",
      "source": [
        "from keras.models import Sequential\n",
        "from keras.layers import Dense\n",
        "from keras.layers import LSTM\n",
        "from keras.layers import Dropout\n",
        "\n",
        "regressor = Sequential()\n"
      ],
      "metadata": {
        "id": "NyvC8YuxtjlA"
      },
      "execution_count": null,
      "outputs": []
    },
    {
      "cell_type": "code",
      "source": [
        "#  LSTM Layer 을 넣는다.\n",
        "# 드롭 아웃 정규화 : 드롭아웃 비율 20% 떨어트리는,\n",
        "regressor.add(LSTM(units=50,return_sequences=True,input_shape=(x_train.shape[1],1)))\n",
        "regressor.add(Dropout(0.2))"
      ],
      "metadata": {
        "id": "4HmmCm9Gw84M"
      },
      "execution_count": null,
      "outputs": []
    },
    {
      "cell_type": "code",
      "source": [
        "# Recurrent Neural Network\n",
        "\n",
        "\n",
        "\n",
        "# Part 1 - Data Preprocessing\n",
        "\n",
        "# Importing the libraries\n",
        "import numpy as np\n",
        "import matplotlib.pyplot as plt\n",
        "import pandas as pd\n",
        "\n",
        "# Importing the training set\n",
        "dataset_train = pd.read_csv('Google_Stock_Price_Train.csv')\n",
        "training_set = dataset_train.iloc[:, 1:2].values\n",
        "\n",
        "# Feature Scaling\n",
        "from sklearn.preprocessing import MinMaxScaler\n",
        "sc = MinMaxScaler(feature_range = (0, 1))\n",
        "training_set_scaled = sc.fit_transform(training_set)\n",
        "\n",
        "# Creating a data structure with 60 timesteps and 1 output\n",
        "X_train = []\n",
        "y_train = []\n",
        "for i in range(120, 1258):\n",
        "    X_train.append(training_set_scaled[i-120:i, 0])\n",
        "    y_train.append(training_set_scaled[i, 0])\n",
        "X_train, y_train = np.array(X_train), np.array(y_train)\n",
        "\n",
        "# Reshaping\n",
        "X_train = np.reshape(X_train, (X_train.shape[0], X_train.shape[1], 1))\n",
        "\n",
        "\n",
        "\n",
        "# Part 2 - Building the RNN\n",
        "\n",
        "# Importing the Keras libraries and packages\n",
        "from keras.models import Sequential\n",
        "from keras.layers import Dense\n",
        "from keras.layers import LSTM\n",
        "from keras.layers import Dropout\n",
        "\n",
        "# Initialising the RNN\n",
        "regressor = Sequential()\n",
        "\n",
        "# Adding the first LSTM layer and some Dropout regularisation\n",
        "regressor.add(LSTM(units = 50, return_sequences = True, input_shape = (X_train.shape[1], 1)))\n",
        "regressor.add(Dropout(0.2))\n",
        "\n",
        "# Adding a second LSTM layer and some Dropout regularisation\n",
        "regressor.add(LSTM(units = 50, return_sequences = True))\n",
        "regressor.add(Dropout(0.2))\n",
        "\n",
        "# Adding a third LSTM layer and some Dropout regularisation\n",
        "regressor.add(LSTM(units = 50, return_sequences = True))\n",
        "regressor.add(Dropout(0.2))\n",
        "\n",
        "# Adding a fourth LSTM layer and some Dropout regularisation\n",
        "regressor.add(LSTM(units = 50, return_sequences = True))\n",
        "regressor.add(Dropout(0.2))\n",
        "\n",
        "\n",
        "regressor.add(LSTM(units = 50))\n",
        "regressor.add(Dropout(0.2))\n",
        "\n",
        "# Adding the output layer\n",
        "regressor.add(Dense(units = 1))\n",
        "\n",
        "# Compiling the RNN\n",
        "regressor.compile(optimizer = 'adam', loss = 'mean_squared_error')\n",
        "\n",
        "# Fitting the RNN to the Training set\n",
        "regressor.fit(X_train, y_train, epochs = 100, batch_size = 32)\n",
        "\n",
        "\n",
        "\n",
        "# Part 3 - Making the predictions and visualising the results\n",
        "\n",
        "# Getting the real stock price of 2017\n",
        "dataset_test = pd.read_csv('Google_Stock_Price_Test.csv')\n",
        "real_stock_price = dataset_test.iloc[:, 1:2].values\n",
        "\n",
        "# Getting the predicted stock price of 2017\n",
        "dataset_total = pd.concat((dataset_train['Open'], dataset_test['Open']), axis = 0)\n",
        "inputs = dataset_total[len(dataset_total) - len(dataset_test) - 120:].values\n",
        "inputs = inputs.reshape(-1,1)\n",
        "inputs = sc.transform(inputs)\n",
        "X_test = []\n",
        "for i in range(120, 140):\n",
        "    X_test.append(inputs[i-120:i, 0])\n",
        "X_test = np.array(X_test)\n",
        "X_test = np.reshape(X_test, (X_test.shape[0], X_test.shape[1], 1))\n",
        "predicted_stock_price = regressor.predict(X_test)\n",
        "predicted_stock_price = sc.inverse_transform(predicted_stock_price)\n",
        "\n",
        "# Visualising the results\n",
        "plt.plot(real_stock_price, color = 'red', label = 'Real Google Stock Price')\n",
        "plt.plot(predicted_stock_price, color = 'blue', label = 'Predicted Google Stock Price')\n",
        "plt.title('Google Stock Price Prediction')\n",
        "plt.xlabel('Time')\n",
        "plt.ylabel('Google Stock Price')\n",
        "plt.legend()\n",
        "plt.show()"
      ],
      "metadata": {
        "id": "xJ7Q5iZCJ2UB",
        "outputId": "5e0b5c1b-0165-48af-e828-9f32e2b54e73",
        "colab": {
          "base_uri": "https://localhost:8080/",
          "height": 1000
        }
      },
      "execution_count": 125,
      "outputs": [
        {
          "output_type": "stream",
          "name": "stdout",
          "text": [
            "Epoch 1/100\n",
            "36/36 [==============================] - 19s 246ms/step - loss: 0.0497\n",
            "Epoch 2/100\n",
            "36/36 [==============================] - 11s 316ms/step - loss: 0.0073\n",
            "Epoch 3/100\n",
            "36/36 [==============================] - 10s 282ms/step - loss: 0.0062\n",
            "Epoch 4/100\n",
            "36/36 [==============================] - 10s 285ms/step - loss: 0.0058\n",
            "Epoch 5/100\n",
            "36/36 [==============================] - 9s 254ms/step - loss: 0.0052\n",
            "Epoch 6/100\n",
            "36/36 [==============================] - 10s 267ms/step - loss: 0.0055\n",
            "Epoch 7/100\n",
            "36/36 [==============================] - 10s 282ms/step - loss: 0.0056\n",
            "Epoch 8/100\n",
            "36/36 [==============================] - 11s 294ms/step - loss: 0.0065\n",
            "Epoch 9/100\n",
            "36/36 [==============================] - 9s 248ms/step - loss: 0.0052\n",
            "Epoch 10/100\n",
            "36/36 [==============================] - 10s 276ms/step - loss: 0.0048\n",
            "Epoch 11/100\n",
            "36/36 [==============================] - 10s 283ms/step - loss: 0.0053\n",
            "Epoch 12/100\n",
            "36/36 [==============================] - 11s 295ms/step - loss: 0.0044\n",
            "Epoch 13/100\n",
            "36/36 [==============================] - 9s 246ms/step - loss: 0.0043\n",
            "Epoch 14/100\n",
            "36/36 [==============================] - 10s 279ms/step - loss: 0.0049\n",
            "Epoch 15/100\n",
            "36/36 [==============================] - 10s 286ms/step - loss: 0.0050\n",
            "Epoch 16/100\n",
            "36/36 [==============================] - 10s 284ms/step - loss: 0.0041\n",
            "Epoch 17/100\n",
            "36/36 [==============================] - 9s 245ms/step - loss: 0.0049\n",
            "Epoch 18/100\n",
            "36/36 [==============================] - 10s 280ms/step - loss: 0.0038\n",
            "Epoch 19/100\n",
            "36/36 [==============================] - 10s 284ms/step - loss: 0.0046\n",
            "Epoch 20/100\n",
            "36/36 [==============================] - 10s 288ms/step - loss: 0.0048\n",
            "Epoch 21/100\n",
            "36/36 [==============================] - 9s 249ms/step - loss: 0.0037\n",
            "Epoch 22/100\n",
            "36/36 [==============================] - 10s 284ms/step - loss: 0.0036\n",
            "Epoch 23/100\n",
            "36/36 [==============================] - 10s 284ms/step - loss: 0.0041\n",
            "Epoch 24/100\n",
            "36/36 [==============================] - 10s 277ms/step - loss: 0.0034\n",
            "Epoch 25/100\n",
            "36/36 [==============================] - 9s 250ms/step - loss: 0.0034\n",
            "Epoch 26/100\n",
            "36/36 [==============================] - 10s 279ms/step - loss: 0.0030\n",
            "Epoch 27/100\n",
            "36/36 [==============================] - 10s 284ms/step - loss: 0.0034\n",
            "Epoch 28/100\n",
            "36/36 [==============================] - 10s 268ms/step - loss: 0.0034\n",
            "Epoch 29/100\n",
            "36/36 [==============================] - 9s 256ms/step - loss: 0.0035\n",
            "Epoch 30/100\n",
            "36/36 [==============================] - 10s 282ms/step - loss: 0.0031\n",
            "Epoch 31/100\n",
            "36/36 [==============================] - 10s 281ms/step - loss: 0.0038\n",
            "Epoch 32/100\n",
            "36/36 [==============================] - 9s 252ms/step - loss: 0.0034\n",
            "Epoch 33/100\n",
            "36/36 [==============================] - 10s 271ms/step - loss: 0.0032\n",
            "Epoch 34/100\n",
            "36/36 [==============================] - 10s 284ms/step - loss: 0.0032\n",
            "Epoch 35/100\n",
            "36/36 [==============================] - 10s 284ms/step - loss: 0.0030\n",
            "Epoch 36/100\n",
            "36/36 [==============================] - 9s 246ms/step - loss: 0.0035\n",
            "Epoch 37/100\n",
            "36/36 [==============================] - 10s 280ms/step - loss: 0.0031\n",
            "Epoch 38/100\n",
            "36/36 [==============================] - 10s 281ms/step - loss: 0.0030\n",
            "Epoch 39/100\n",
            "36/36 [==============================] - 10s 283ms/step - loss: 0.0029\n",
            "Epoch 40/100\n",
            "36/36 [==============================] - 9s 247ms/step - loss: 0.0030\n",
            "Epoch 41/100\n",
            "36/36 [==============================] - 10s 279ms/step - loss: 0.0031\n",
            "Epoch 42/100\n",
            "36/36 [==============================] - 10s 284ms/step - loss: 0.0026\n",
            "Epoch 43/100\n",
            "36/36 [==============================] - 10s 283ms/step - loss: 0.0030\n",
            "Epoch 44/100\n",
            "36/36 [==============================] - 9s 246ms/step - loss: 0.0029\n",
            "Epoch 45/100\n",
            "36/36 [==============================] - 10s 279ms/step - loss: 0.0028\n",
            "Epoch 46/100\n",
            "36/36 [==============================] - 10s 284ms/step - loss: 0.0032\n",
            "Epoch 47/100\n",
            "36/36 [==============================] - 10s 281ms/step - loss: 0.0027\n",
            "Epoch 48/100\n",
            "36/36 [==============================] - 9s 250ms/step - loss: 0.0027\n",
            "Epoch 49/100\n",
            "36/36 [==============================] - 10s 280ms/step - loss: 0.0026\n",
            "Epoch 50/100\n",
            "36/36 [==============================] - 10s 280ms/step - loss: 0.0027\n",
            "Epoch 51/100\n",
            "36/36 [==============================] - 10s 278ms/step - loss: 0.0027\n",
            "Epoch 52/100\n",
            "36/36 [==============================] - 9s 249ms/step - loss: 0.0027\n",
            "Epoch 53/100\n",
            "36/36 [==============================] - 10s 283ms/step - loss: 0.0028\n",
            "Epoch 54/100\n",
            "36/36 [==============================] - 10s 285ms/step - loss: 0.0024\n",
            "Epoch 55/100\n",
            "36/36 [==============================] - 10s 280ms/step - loss: 0.0024\n",
            "Epoch 56/100\n",
            "36/36 [==============================] - 9s 253ms/step - loss: 0.0025\n",
            "Epoch 57/100\n",
            "36/36 [==============================] - 10s 286ms/step - loss: 0.0023\n",
            "Epoch 58/100\n",
            "36/36 [==============================] - 10s 284ms/step - loss: 0.0024\n",
            "Epoch 59/100\n",
            "36/36 [==============================] - 10s 265ms/step - loss: 0.0025\n",
            "Epoch 60/100\n",
            "36/36 [==============================] - 10s 262ms/step - loss: 0.0026\n",
            "Epoch 61/100\n",
            "36/36 [==============================] - 10s 285ms/step - loss: 0.0023\n",
            "Epoch 62/100\n",
            "36/36 [==============================] - 10s 285ms/step - loss: 0.0023\n",
            "Epoch 63/100\n",
            "36/36 [==============================] - 9s 261ms/step - loss: 0.0023\n",
            "Epoch 64/100\n",
            "36/36 [==============================] - 10s 269ms/step - loss: 0.0022\n",
            "Epoch 65/100\n",
            "36/36 [==============================] - 10s 282ms/step - loss: 0.0020\n",
            "Epoch 66/100\n",
            "36/36 [==============================] - 10s 285ms/step - loss: 0.0022\n",
            "Epoch 67/100\n",
            "36/36 [==============================] - 9s 254ms/step - loss: 0.0024\n",
            "Epoch 68/100\n",
            "36/36 [==============================] - 10s 271ms/step - loss: 0.0021\n",
            "Epoch 69/100\n",
            "36/36 [==============================] - 10s 283ms/step - loss: 0.0020\n",
            "Epoch 70/100\n",
            "36/36 [==============================] - 10s 283ms/step - loss: 0.0020\n",
            "Epoch 71/100\n",
            "36/36 [==============================] - 9s 247ms/step - loss: 0.0023\n",
            "Epoch 72/100\n",
            "36/36 [==============================] - 10s 280ms/step - loss: 0.0020\n",
            "Epoch 73/100\n",
            "36/36 [==============================] - 10s 284ms/step - loss: 0.0019\n",
            "Epoch 74/100\n",
            "36/36 [==============================] - 10s 284ms/step - loss: 0.0018\n",
            "Epoch 75/100\n",
            "36/36 [==============================] - 9s 247ms/step - loss: 0.0019\n",
            "Epoch 76/100\n",
            "36/36 [==============================] - 10s 285ms/step - loss: 0.0019\n",
            "Epoch 77/100\n",
            "36/36 [==============================] - 10s 279ms/step - loss: 0.0021\n",
            "Epoch 78/100\n",
            "36/36 [==============================] - 10s 278ms/step - loss: 0.0020\n",
            "Epoch 79/100\n",
            "36/36 [==============================] - 9s 245ms/step - loss: 0.0018\n",
            "Epoch 80/100\n",
            "36/36 [==============================] - 10s 283ms/step - loss: 0.0020\n",
            "Epoch 81/100\n",
            "36/36 [==============================] - 10s 284ms/step - loss: 0.0017\n",
            "Epoch 82/100\n",
            "36/36 [==============================] - 10s 270ms/step - loss: 0.0017\n",
            "Epoch 83/100\n",
            "36/36 [==============================] - 9s 254ms/step - loss: 0.0017\n",
            "Epoch 84/100\n",
            "36/36 [==============================] - 10s 284ms/step - loss: 0.0017\n",
            "Epoch 85/100\n",
            "36/36 [==============================] - 10s 282ms/step - loss: 0.0018\n",
            "Epoch 86/100\n",
            "36/36 [==============================] - 9s 256ms/step - loss: 0.0017\n",
            "Epoch 87/100\n",
            "36/36 [==============================] - 10s 268ms/step - loss: 0.0017\n",
            "Epoch 88/100\n",
            "36/36 [==============================] - 10s 282ms/step - loss: 0.0019\n",
            "Epoch 89/100\n",
            "36/36 [==============================] - 10s 282ms/step - loss: 0.0017\n",
            "Epoch 90/100\n",
            "36/36 [==============================] - 9s 247ms/step - loss: 0.0017\n",
            "Epoch 91/100\n",
            "36/36 [==============================] - 10s 278ms/step - loss: 0.0015\n",
            "Epoch 92/100\n",
            "36/36 [==============================] - 10s 280ms/step - loss: 0.0017\n",
            "Epoch 93/100\n",
            "36/36 [==============================] - 10s 283ms/step - loss: 0.0017\n",
            "Epoch 94/100\n",
            "36/36 [==============================] - 9s 246ms/step - loss: 0.0018\n",
            "Epoch 95/100\n",
            "36/36 [==============================] - 10s 283ms/step - loss: 0.0016\n",
            "Epoch 96/100\n",
            "36/36 [==============================] - 10s 282ms/step - loss: 0.0017\n",
            "Epoch 97/100\n",
            "36/36 [==============================] - 10s 284ms/step - loss: 0.0017\n",
            "Epoch 98/100\n",
            "36/36 [==============================] - 9s 247ms/step - loss: 0.0014\n",
            "Epoch 99/100\n",
            "36/36 [==============================] - 10s 283ms/step - loss: 0.0015\n",
            "Epoch 100/100\n",
            "36/36 [==============================] - 10s 280ms/step - loss: 0.0015\n",
            "1/1 [==============================] - 2s 2s/step\n"
          ]
        },
        {
          "output_type": "display_data",
          "data": {
            "text/plain": [
              "<Figure size 640x480 with 1 Axes>"
            ],
            "image/png": "[encoded data removed]"
          },
          "metadata": {}
        }
      ]
    }
  ]
}