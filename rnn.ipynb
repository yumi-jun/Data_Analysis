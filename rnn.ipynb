{
  "nbformat": 4,
  "nbformat_minor": 0,
  "metadata": {
    "colab": {
      "provenance": [],
      "authorship_tag": "ABX9TyOMg7uOEUa+dXUS3EUYVGJS",
      "include_colab_link": true
    },
    "kernelspec": {
      "name": "python3",
      "display_name": "Python 3"
    },
    "language_info": {
      "name": "python"
    }
  },
  "cells": [
    {
      "cell_type": "markdown",
      "metadata": {
        "id": "view-in-github",
        "colab_type": "text"
      },
      "source": [
        "<a href=\"https://colab.research.google.com/github/yumi-jun/Data_Analysis/blob/main/rnn.ipynb\" target=\"_parent\"><img src=\"https://colab.research.google.com/assets/colab-badge.svg\" alt=\"Open In Colab\"/></a>"
      ]
    },
    {
      "cell_type": "markdown",
      "source": [
        "# RNN 구글의 주가를 예측해보자 !\n",
        " - 장단기 모델을 사용할 것임!\n",
        " - 2012 년 - 2016년 데이터 셋을 통해, 2017년의 주가 를 예측할 것임"
      ],
      "metadata": {
        "id": "2D-sLx98bmz4"
      }
    },
    {
      "cell_type": "markdown",
      "source": [
        "## Training set 을 준비해보자"
      ],
      "metadata": {
        "id": "LfI5OZLDf5gA"
      }
    },
    {
      "cell_type": "code",
      "source": [
        "import numpy as np\n",
        "import matplotlib.pyplot as plt\n",
        "import pandas as pd\n",
        "\n"
      ],
      "metadata": {
        "id": "VkmVXrZTfvZE"
      },
      "execution_count": 51,
      "outputs": []
    },
    {
      "cell_type": "code",
      "execution_count": 52,
      "metadata": {
        "colab": {
          "base_uri": "https://localhost:8080/"
        },
        "id": "gy4bPZu2bjyd",
        "outputId": "8139f102-1a6e-413f-949b-387fb0c45562"
      },
      "outputs": [
        {
          "output_type": "stream",
          "name": "stdout",
          "text": [
            "[[325.25]\n",
            " [331.27]\n",
            " [329.83]\n",
            " ...\n",
            " [793.7 ]\n",
            " [783.33]\n",
            " [782.75]]\n",
            "(1258, 6)\n"
          ]
        }
      ],
      "source": [
        "dataset_train=pd.read_csv('Google_Stock_Price_Train.csv')\n",
        "\n",
        "## 열을 추출할 때, [:, 1] : Series 1 차원 배열로 반환\n",
        "## 열을 추출할 때, [:, 1:2] : DataFrame 2차원 배열로 반환\n",
        "training_set=dataset_train.iloc[:,1:2].values # 1열이 2차원으로 반환\n",
        "print(training_set)\n",
        "print(dataset_train.shape)"
      ]
    },
    {
      "cell_type": "markdown",
      "source": [
        "# 데이터 전처리\n",
        "- 표준화\n",
        "- 정규화"
      ],
      "metadata": {
        "id": "33oiEA3AjYkv"
      }
    },
    {
      "cell_type": "markdown",
      "source": [
        "시그노이드 함수 : 순환 신경망의 출력층에 활성화 함수에 시그노이드 함수를 사용하게 될 경우, 정규화를 추천한다."
      ],
      "metadata": {
        "id": "y6KEsHkVjeNI"
      }
    },
    {
      "cell_type": "code",
      "source": [
        "from sklearn.preprocessing import MinMaxScaler\n",
        "# 척도\n",
        "sc=MinMaxScaler(feature_range=(0,1))\n",
        "# 정규화된 값을 적용한\n",
        "training_set_scaled=sc.fit_transform(training_set)\n",
        "print(training_set_scaled)"
      ],
      "metadata": {
        "colab": {
          "base_uri": "https://localhost:8080/"
        },
        "id": "-hRHPh7miu6k",
        "outputId": "86acaa43-29dd-4e89-bfef-936c9ed6548c"
      },
      "execution_count": 53,
      "outputs": [
        {
          "output_type": "stream",
          "name": "stdout",
          "text": [
            "[[0.08581368]\n",
            " [0.09701243]\n",
            " [0.09433366]\n",
            " ...\n",
            " [0.95725128]\n",
            " [0.93796041]\n",
            " [0.93688146]]\n"
          ]
        }
      ]
    },
    {
      "cell_type": "markdown",
      "source": [
        "RNN 을 구축하여보자\n"
      ],
      "metadata": {
        "id": "b5MKjq1-mfJx"
      }
    },
    {
      "cell_type": "code",
      "source": [
        "x_train=[] # 이전의 60개의 데이터\n",
        "y_train=[] # 예측할 데이터\n",
        "\n",
        "for i in range(60,1258):\n",
        "  # 시리즈 1차원 배열로 반환\n",
        "  x_train.append(training_set_scaled[i-60:i,0])\n",
        "  y_train.append(training_set_scaled[i,0])\n",
        "\n",
        "# 1차원 배열들이, numpy 로 다차원 배열로 변혼하게됨.\n",
        "# x_train : 0-59 까지의 데이터 배열, y_train : 60 의 데이터가 있음\n",
        "x_train,y_train=np.array(x_train),np.array(y_train)"
      ],
      "metadata": {
        "id": "x4WHIR-Fm9s0"
      },
      "execution_count": 54,
      "outputs": []
    },
    {
      "cell_type": "code",
      "source": [
        "# 3차원 모델 만들\n",
        "x_train = np.reshape(x_train, (x_train.shape[0],x_train.shape[1], 1))\n",
        "print(x_train)"
      ],
      "metadata": {
        "colab": {
          "base_uri": "https://localhost:8080/"
        },
        "id": "vi_CBV3Stj9J",
        "outputId": "3a7a0307-86d2-4395-fc93-946425e64d4c"
      },
      "execution_count": 55,
      "outputs": [
        {
          "output_type": "stream",
          "name": "stdout",
          "text": [
            "[[[0.08581368]\n",
            "  [0.09701243]\n",
            "  [0.09433366]\n",
            "  ...\n",
            "  [0.07846566]\n",
            "  [0.08034452]\n",
            "  [0.08497656]]\n",
            "\n",
            " [[0.09701243]\n",
            "  [0.09433366]\n",
            "  [0.09156187]\n",
            "  ...\n",
            "  [0.08034452]\n",
            "  [0.08497656]\n",
            "  [0.08627874]]\n",
            "\n",
            " [[0.09433366]\n",
            "  [0.09156187]\n",
            "  [0.07984225]\n",
            "  ...\n",
            "  [0.08497656]\n",
            "  [0.08627874]\n",
            "  [0.08471612]]\n",
            "\n",
            " ...\n",
            "\n",
            " [[0.92106928]\n",
            "  [0.92438053]\n",
            "  [0.93048218]\n",
            "  ...\n",
            "  [0.95475854]\n",
            "  [0.95204256]\n",
            "  [0.95163331]]\n",
            "\n",
            " [[0.92438053]\n",
            "  [0.93048218]\n",
            "  [0.9299055 ]\n",
            "  ...\n",
            "  [0.95204256]\n",
            "  [0.95163331]\n",
            "  [0.95725128]]\n",
            "\n",
            " [[0.93048218]\n",
            "  [0.9299055 ]\n",
            "  [0.93113327]\n",
            "  ...\n",
            "  [0.95163331]\n",
            "  [0.95725128]\n",
            "  [0.93796041]]]\n"
          ]
        }
      ]
    },
    {
      "cell_type": "code",
      "source": [
        "print(x_train.shape)"
      ],
      "metadata": {
        "colab": {
          "base_uri": "https://localhost:8080/"
        },
        "id": "i8c1op0Hvl_4",
        "outputId": "51045e6e-aeb5-431a-ea77-f27da80f0e41"
      },
      "execution_count": 56,
      "outputs": [
        {
          "output_type": "stream",
          "name": "stdout",
          "text": [
            "(1198, 60, 1)\n"
          ]
        }
      ]
    },
    {
      "cell_type": "code",
      "source": [
        "from keras.models import Sequential\n",
        "from keras.layers import Dense\n",
        "from keras.layers import LSTM\n",
        "from keras.layers import Dropout\n",
        "\n",
        "regressor = Sequential()\n"
      ],
      "metadata": {
        "id": "NyvC8YuxtjlA"
      },
      "execution_count": 59,
      "outputs": []
    },
    {
      "cell_type": "code",
      "source": [
        "#  LSTM Layer 을 넣는다.\n",
        "# 드롭 아웃 정규화 : 드롭아웃 비율 20% 떨어트리는,\n",
        "regressor.add(LSTM(units=50,return_sequences=True,input_shape=(x_train.shape[1],1)))\n",
        "regressor.add(Dropout(0.2))"
      ],
      "metadata": {
        "id": "4HmmCm9Gw84M"
      },
      "execution_count": 60,
      "outputs": []
    }
  ]
}